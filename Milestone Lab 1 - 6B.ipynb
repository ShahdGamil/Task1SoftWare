{
 "cells": [
  {
   "cell_type": "markdown",
   "id": "91dc1bab-11ea-4a3a-817a-7597ea6ce03e",
   "metadata": {},
   "source": [
    "### Enter your name - Your ID"
   ]
  },
  {
   "cell_type": "markdown",
   "id": "2f60ba71-a3d6-485d-aaef-b880526e6253",
   "metadata": {},
   "source": [
    "# 1) Milestone Lab 01 Questions <span style=\"color:red\"> (Total marks: 20 marks) </span>"
   ]
  },
  {
   "cell_type": "code",
   "execution_count": 6,
   "id": "7be41bbd-6ced-47d5-ac68-5d21df4b3faa",
   "metadata": {},
   "outputs": [],
   "source": [
    "import pandas as pd\n",
    "import numpy as np\n",
    "import matplotlib.pyplot as plt\n",
    "import seaborn as sns\n",
    "from scipy.stats import pearsonr\n"
   ]
  },
  {
   "cell_type": "code",
   "execution_count": 7,
   "id": "317fbf23-9e8f-4035-9bcb-7346257f75d3",
   "metadata": {},
   "outputs": [
    {
     "data": {
      "text/html": [
       "<div>\n",
       "<style scoped>\n",
       "    .dataframe tbody tr th:only-of-type {\n",
       "        vertical-align: middle;\n",
       "    }\n",
       "\n",
       "    .dataframe tbody tr th {\n",
       "        vertical-align: top;\n",
       "    }\n",
       "\n",
       "    .dataframe thead th {\n",
       "        text-align: right;\n",
       "    }\n",
       "</style>\n",
       "<table border=\"1\" class=\"dataframe\">\n",
       "  <thead>\n",
       "    <tr style=\"text-align: right;\">\n",
       "      <th></th>\n",
       "      <th>Unnamed: 0</th>\n",
       "      <th>car_name</th>\n",
       "      <th>registration_year</th>\n",
       "      <th>insurance_validity</th>\n",
       "      <th>fuel_type</th>\n",
       "      <th>seats</th>\n",
       "      <th>kms_driven</th>\n",
       "      <th>ownsership</th>\n",
       "      <th>transmission</th>\n",
       "      <th>manufacturing_year</th>\n",
       "      <th>mileage(kmpl)</th>\n",
       "      <th>engine(cc)</th>\n",
       "      <th>max_power(bhp)</th>\n",
       "      <th>torque(Nm)</th>\n",
       "      <th>price(in lakhs)</th>\n",
       "    </tr>\n",
       "  </thead>\n",
       "  <tbody>\n",
       "    <tr>\n",
       "      <th>0</th>\n",
       "      <td>0</td>\n",
       "      <td>2017 Mercedes-Benz S-Class S400</td>\n",
       "      <td>Jul-17</td>\n",
       "      <td>Comprehensive</td>\n",
       "      <td>Petrol</td>\n",
       "      <td>5</td>\n",
       "      <td>56000</td>\n",
       "      <td>First Owner</td>\n",
       "      <td>Automatic</td>\n",
       "      <td>2017</td>\n",
       "      <td>7.81</td>\n",
       "      <td>2996.0</td>\n",
       "      <td>2996.0</td>\n",
       "      <td>333.0</td>\n",
       "      <td>63.75</td>\n",
       "    </tr>\n",
       "    <tr>\n",
       "      <th>1</th>\n",
       "      <td>1</td>\n",
       "      <td>2020 Nissan Magnite Turbo CVT XV Premium Opt BSVI</td>\n",
       "      <td>Jan-21</td>\n",
       "      <td>Comprehensive</td>\n",
       "      <td>Petrol</td>\n",
       "      <td>5</td>\n",
       "      <td>30615</td>\n",
       "      <td>First Owner</td>\n",
       "      <td>Automatic</td>\n",
       "      <td>2020</td>\n",
       "      <td>17.40</td>\n",
       "      <td>999.0</td>\n",
       "      <td>999.0</td>\n",
       "      <td>9863.0</td>\n",
       "      <td>8.99</td>\n",
       "    </tr>\n",
       "    <tr>\n",
       "      <th>2</th>\n",
       "      <td>2</td>\n",
       "      <td>2018 BMW X1 sDrive 20d xLine</td>\n",
       "      <td>Sep-18</td>\n",
       "      <td>Comprehensive</td>\n",
       "      <td>Diesel</td>\n",
       "      <td>5</td>\n",
       "      <td>24000</td>\n",
       "      <td>First Owner</td>\n",
       "      <td>Automatic</td>\n",
       "      <td>2018</td>\n",
       "      <td>20.68</td>\n",
       "      <td>1995.0</td>\n",
       "      <td>1995.0</td>\n",
       "      <td>188.0</td>\n",
       "      <td>23.75</td>\n",
       "    </tr>\n",
       "    <tr>\n",
       "      <th>3</th>\n",
       "      <td>3</td>\n",
       "      <td>2019 Kia Seltos GTX Plus</td>\n",
       "      <td>Dec-19</td>\n",
       "      <td>Comprehensive</td>\n",
       "      <td>Petrol</td>\n",
       "      <td>5</td>\n",
       "      <td>18378</td>\n",
       "      <td>First Owner</td>\n",
       "      <td>Manual</td>\n",
       "      <td>2019</td>\n",
       "      <td>16.50</td>\n",
       "      <td>1353.0</td>\n",
       "      <td>1353.0</td>\n",
       "      <td>13808.0</td>\n",
       "      <td>13.56</td>\n",
       "    </tr>\n",
       "    <tr>\n",
       "      <th>4</th>\n",
       "      <td>4</td>\n",
       "      <td>2019 Skoda Superb LK 1.8 TSI AT</td>\n",
       "      <td>Aug-19</td>\n",
       "      <td>Comprehensive</td>\n",
       "      <td>Petrol</td>\n",
       "      <td>5</td>\n",
       "      <td>44900</td>\n",
       "      <td>First Owner</td>\n",
       "      <td>Automatic</td>\n",
       "      <td>2019</td>\n",
       "      <td>14.67</td>\n",
       "      <td>1798.0</td>\n",
       "      <td>1798.0</td>\n",
       "      <td>17746.0</td>\n",
       "      <td>24.00</td>\n",
       "    </tr>\n",
       "    <tr>\n",
       "      <th>...</th>\n",
       "      <td>...</td>\n",
       "      <td>...</td>\n",
       "      <td>...</td>\n",
       "      <td>...</td>\n",
       "      <td>...</td>\n",
       "      <td>...</td>\n",
       "      <td>...</td>\n",
       "      <td>...</td>\n",
       "      <td>...</td>\n",
       "      <td>...</td>\n",
       "      <td>...</td>\n",
       "      <td>...</td>\n",
       "      <td>...</td>\n",
       "      <td>...</td>\n",
       "      <td>...</td>\n",
       "    </tr>\n",
       "    <tr>\n",
       "      <th>1548</th>\n",
       "      <td>1548</td>\n",
       "      <td>2020 Hyundai Creta SX Opt Diesel AT BSVI</td>\n",
       "      <td>Aug-20</td>\n",
       "      <td>Comprehensive</td>\n",
       "      <td>Diesel</td>\n",
       "      <td>5</td>\n",
       "      <td>35000</td>\n",
       "      <td>First Owner</td>\n",
       "      <td>Automatic</td>\n",
       "      <td>2020</td>\n",
       "      <td>1493.00</td>\n",
       "      <td>11345.0</td>\n",
       "      <td>11345.0</td>\n",
       "      <td>250.0</td>\n",
       "      <td>17.41</td>\n",
       "    </tr>\n",
       "    <tr>\n",
       "      <th>1549</th>\n",
       "      <td>1549</td>\n",
       "      <td>2022 Renault KWID 1.0 RXL Opt BSVI</td>\n",
       "      <td>2022</td>\n",
       "      <td>Third Party insurance</td>\n",
       "      <td>Petrol</td>\n",
       "      <td>5</td>\n",
       "      <td>10000</td>\n",
       "      <td>999 cc</td>\n",
       "      <td>2022</td>\n",
       "      <td>Power Steering</td>\n",
       "      <td>999.00</td>\n",
       "      <td>6706.0</td>\n",
       "      <td>6706.0</td>\n",
       "      <td>91.0</td>\n",
       "      <td>3.98</td>\n",
       "    </tr>\n",
       "    <tr>\n",
       "      <th>1550</th>\n",
       "      <td>1550</td>\n",
       "      <td>2017 Honda WR-V i-VTEC S</td>\n",
       "      <td>Jun-17</td>\n",
       "      <td>Comprehensive</td>\n",
       "      <td>Petrol</td>\n",
       "      <td>5</td>\n",
       "      <td>49000</td>\n",
       "      <td>First Owner</td>\n",
       "      <td>Manual</td>\n",
       "      <td>2017</td>\n",
       "      <td>17.50</td>\n",
       "      <td>1199.0</td>\n",
       "      <td>1199.0</td>\n",
       "      <td>887.0</td>\n",
       "      <td>5.85</td>\n",
       "    </tr>\n",
       "    <tr>\n",
       "      <th>1551</th>\n",
       "      <td>1551</td>\n",
       "      <td>2018 Volkswagen Polo 1.0 MPI Comfortline</td>\n",
       "      <td>May-18</td>\n",
       "      <td>Comprehensive</td>\n",
       "      <td>Petrol</td>\n",
       "      <td>5</td>\n",
       "      <td>40000</td>\n",
       "      <td>Second Owner</td>\n",
       "      <td>Manual</td>\n",
       "      <td>2018</td>\n",
       "      <td>18.78</td>\n",
       "      <td>999.0</td>\n",
       "      <td>999.0</td>\n",
       "      <td>75.0</td>\n",
       "      <td>4.75</td>\n",
       "    </tr>\n",
       "    <tr>\n",
       "      <th>1552</th>\n",
       "      <td>1552</td>\n",
       "      <td>2018 Maruti Swift Dzire VXI</td>\n",
       "      <td>May-18</td>\n",
       "      <td>Comprehensive</td>\n",
       "      <td>Petrol</td>\n",
       "      <td>5</td>\n",
       "      <td>34756</td>\n",
       "      <td>First Owner</td>\n",
       "      <td>Manual</td>\n",
       "      <td>2018</td>\n",
       "      <td>20.85</td>\n",
       "      <td>1197.0</td>\n",
       "      <td>1197.0</td>\n",
       "      <td>8314.0</td>\n",
       "      <td>6.10</td>\n",
       "    </tr>\n",
       "  </tbody>\n",
       "</table>\n",
       "<p>1553 rows × 15 columns</p>\n",
       "</div>"
      ],
      "text/plain": [
       "      Unnamed: 0                                           car_name  \\\n",
       "0              0                    2017 Mercedes-Benz S-Class S400   \n",
       "1              1  2020 Nissan Magnite Turbo CVT XV Premium Opt BSVI   \n",
       "2              2                       2018 BMW X1 sDrive 20d xLine   \n",
       "3              3                           2019 Kia Seltos GTX Plus   \n",
       "4              4                    2019 Skoda Superb LK 1.8 TSI AT   \n",
       "...          ...                                                ...   \n",
       "1548        1548           2020 Hyundai Creta SX Opt Diesel AT BSVI   \n",
       "1549        1549                 2022 Renault KWID 1.0 RXL Opt BSVI   \n",
       "1550        1550                           2017 Honda WR-V i-VTEC S   \n",
       "1551        1551           2018 Volkswagen Polo 1.0 MPI Comfortline   \n",
       "1552        1552                        2018 Maruti Swift Dzire VXI   \n",
       "\n",
       "     registration_year     insurance_validity fuel_type  seats  kms_driven  \\\n",
       "0               Jul-17          Comprehensive    Petrol      5       56000   \n",
       "1               Jan-21          Comprehensive    Petrol      5       30615   \n",
       "2               Sep-18          Comprehensive    Diesel      5       24000   \n",
       "3               Dec-19          Comprehensive    Petrol      5       18378   \n",
       "4               Aug-19          Comprehensive    Petrol      5       44900   \n",
       "...                ...                    ...       ...    ...         ...   \n",
       "1548            Aug-20          Comprehensive    Diesel      5       35000   \n",
       "1549              2022  Third Party insurance    Petrol      5       10000   \n",
       "1550            Jun-17          Comprehensive    Petrol      5       49000   \n",
       "1551            May-18          Comprehensive    Petrol      5       40000   \n",
       "1552            May-18          Comprehensive    Petrol      5       34756   \n",
       "\n",
       "        ownsership transmission manufacturing_year  mileage(kmpl)  engine(cc)  \\\n",
       "0      First Owner    Automatic               2017           7.81      2996.0   \n",
       "1      First Owner    Automatic               2020          17.40       999.0   \n",
       "2      First Owner    Automatic               2018          20.68      1995.0   \n",
       "3      First Owner       Manual               2019          16.50      1353.0   \n",
       "4      First Owner    Automatic               2019          14.67      1798.0   \n",
       "...            ...          ...                ...            ...         ...   \n",
       "1548   First Owner    Automatic               2020        1493.00     11345.0   \n",
       "1549        999 cc         2022     Power Steering         999.00      6706.0   \n",
       "1550   First Owner       Manual               2017          17.50      1199.0   \n",
       "1551  Second Owner       Manual               2018          18.78       999.0   \n",
       "1552   First Owner       Manual               2018          20.85      1197.0   \n",
       "\n",
       "      max_power(bhp)  torque(Nm)  price(in lakhs)  \n",
       "0             2996.0       333.0            63.75  \n",
       "1              999.0      9863.0             8.99  \n",
       "2             1995.0       188.0            23.75  \n",
       "3             1353.0     13808.0            13.56  \n",
       "4             1798.0     17746.0            24.00  \n",
       "...              ...         ...              ...  \n",
       "1548         11345.0       250.0            17.41  \n",
       "1549          6706.0        91.0             3.98  \n",
       "1550          1199.0       887.0             5.85  \n",
       "1551           999.0        75.0             4.75  \n",
       "1552          1197.0      8314.0             6.10  \n",
       "\n",
       "[1553 rows x 15 columns]"
      ]
     },
     "execution_count": 7,
     "metadata": {},
     "output_type": "execute_result"
    }
   ],
   "source": [
    "df = pd.read_csv('Used Car Dataset.csv')\n",
    "df"
   ]
  },
  {
   "cell_type": "markdown",
   "id": "71680dd3-0eb9-4126-94b2-04656ba2107e",
   "metadata": {},
   "source": [
    "## **Q1) Select rows from 54 to 64 including the row number 64 with columns with indicies: 0, 4, 7, and 13. <span style=\"color:red\"> (2 marks) </span>**"
   ]
  },
  {
   "cell_type": "code",
   "execution_count": 9,
   "id": "b46a843c-1b08-4ac1-abde-83b2c0857768",
   "metadata": {},
   "outputs": [
    {
     "data": {
      "text/html": [
       "<div>\n",
       "<style scoped>\n",
       "    .dataframe tbody tr th:only-of-type {\n",
       "        vertical-align: middle;\n",
       "    }\n",
       "\n",
       "    .dataframe tbody tr th {\n",
       "        vertical-align: top;\n",
       "    }\n",
       "\n",
       "    .dataframe thead th {\n",
       "        text-align: right;\n",
       "    }\n",
       "</style>\n",
       "<table border=\"1\" class=\"dataframe\">\n",
       "  <thead>\n",
       "    <tr style=\"text-align: right;\">\n",
       "      <th></th>\n",
       "      <th>Unnamed: 0</th>\n",
       "      <th>fuel_type</th>\n",
       "      <th>ownsership</th>\n",
       "      <th>torque(Nm)</th>\n",
       "    </tr>\n",
       "  </thead>\n",
       "  <tbody>\n",
       "    <tr>\n",
       "      <th>54</th>\n",
       "      <td>54</td>\n",
       "      <td>Petrol</td>\n",
       "      <td>First Owner</td>\n",
       "      <td>8850.0</td>\n",
       "    </tr>\n",
       "    <tr>\n",
       "      <th>55</th>\n",
       "      <td>55</td>\n",
       "      <td>Diesel</td>\n",
       "      <td>First Owner</td>\n",
       "      <td>1262.0</td>\n",
       "    </tr>\n",
       "    <tr>\n",
       "      <th>56</th>\n",
       "      <td>56</td>\n",
       "      <td>Petrol</td>\n",
       "      <td>First Owner</td>\n",
       "      <td>867.0</td>\n",
       "    </tr>\n",
       "    <tr>\n",
       "      <th>57</th>\n",
       "      <td>57</td>\n",
       "      <td>CNG</td>\n",
       "      <td>First Owner</td>\n",
       "      <td>72.0</td>\n",
       "    </tr>\n",
       "    <tr>\n",
       "      <th>58</th>\n",
       "      <td>58</td>\n",
       "      <td>Diesel</td>\n",
       "      <td>First Owner</td>\n",
       "      <td>200.0</td>\n",
       "    </tr>\n",
       "    <tr>\n",
       "      <th>59</th>\n",
       "      <td>59</td>\n",
       "      <td>Petrol</td>\n",
       "      <td>First Owner</td>\n",
       "      <td>1144.0</td>\n",
       "    </tr>\n",
       "    <tr>\n",
       "      <th>60</th>\n",
       "      <td>60</td>\n",
       "      <td>Petrol</td>\n",
       "      <td>First Owner</td>\n",
       "      <td>11935.0</td>\n",
       "    </tr>\n",
       "    <tr>\n",
       "      <th>61</th>\n",
       "      <td>61</td>\n",
       "      <td>Petrol</td>\n",
       "      <td>First Owner</td>\n",
       "      <td>831.0</td>\n",
       "    </tr>\n",
       "    <tr>\n",
       "      <th>62</th>\n",
       "      <td>62</td>\n",
       "      <td>Petrol</td>\n",
       "      <td>First Owner</td>\n",
       "      <td>15189.0</td>\n",
       "    </tr>\n",
       "    <tr>\n",
       "      <th>63</th>\n",
       "      <td>63</td>\n",
       "      <td>Diesel</td>\n",
       "      <td>First Owner</td>\n",
       "      <td>11343.0</td>\n",
       "    </tr>\n",
       "    <tr>\n",
       "      <th>64</th>\n",
       "      <td>64</td>\n",
       "      <td>Petrol</td>\n",
       "      <td>Second Owner</td>\n",
       "      <td>20115.0</td>\n",
       "    </tr>\n",
       "  </tbody>\n",
       "</table>\n",
       "</div>"
      ],
      "text/plain": [
       "    Unnamed: 0 fuel_type    ownsership  torque(Nm)\n",
       "54          54    Petrol   First Owner      8850.0\n",
       "55          55    Diesel   First Owner      1262.0\n",
       "56          56    Petrol   First Owner       867.0\n",
       "57          57       CNG   First Owner        72.0\n",
       "58          58    Diesel   First Owner       200.0\n",
       "59          59    Petrol   First Owner      1144.0\n",
       "60          60    Petrol   First Owner     11935.0\n",
       "61          61    Petrol   First Owner       831.0\n",
       "62          62    Petrol   First Owner     15189.0\n",
       "63          63    Diesel   First Owner     11343.0\n",
       "64          64    Petrol  Second Owner     20115.0"
      ]
     },
     "execution_count": 9,
     "metadata": {},
     "output_type": "execute_result"
    }
   ],
   "source": [
    "# Add your code here\n",
    "df.iloc[54:65,[0,4,7,13]]\n"
   ]
  },
  {
   "cell_type": "markdown",
   "id": "f6519105-434e-451b-bde8-e766855d1a0f",
   "metadata": {},
   "source": [
    "## **Q2) Rename the 'fuel_type' column into 'fuel type' permanently. <span style=\"color:red\"> (1.5 marks) </span>**"
   ]
  },
  {
   "cell_type": "code",
   "execution_count": 11,
   "id": "b9950565-b0bd-4a5f-ae12-ee6a766c7328",
   "metadata": {},
   "outputs": [
    {
     "data": {
      "text/html": [
       "<div>\n",
       "<style scoped>\n",
       "    .dataframe tbody tr th:only-of-type {\n",
       "        vertical-align: middle;\n",
       "    }\n",
       "\n",
       "    .dataframe tbody tr th {\n",
       "        vertical-align: top;\n",
       "    }\n",
       "\n",
       "    .dataframe thead th {\n",
       "        text-align: right;\n",
       "    }\n",
       "</style>\n",
       "<table border=\"1\" class=\"dataframe\">\n",
       "  <thead>\n",
       "    <tr style=\"text-align: right;\">\n",
       "      <th></th>\n",
       "      <th>Unnamed: 0</th>\n",
       "      <th>car_name</th>\n",
       "      <th>registration_year</th>\n",
       "      <th>insurance_validity</th>\n",
       "      <th>fuel type</th>\n",
       "      <th>seats</th>\n",
       "      <th>kms_driven</th>\n",
       "      <th>ownsership</th>\n",
       "      <th>transmission</th>\n",
       "      <th>manufacturing_year</th>\n",
       "      <th>mileage(kmpl)</th>\n",
       "      <th>engine(cc)</th>\n",
       "      <th>max_power(bhp)</th>\n",
       "      <th>torque(Nm)</th>\n",
       "      <th>price(in lakhs)</th>\n",
       "    </tr>\n",
       "  </thead>\n",
       "  <tbody>\n",
       "    <tr>\n",
       "      <th>0</th>\n",
       "      <td>0</td>\n",
       "      <td>2017 Mercedes-Benz S-Class S400</td>\n",
       "      <td>Jul-17</td>\n",
       "      <td>Comprehensive</td>\n",
       "      <td>Petrol</td>\n",
       "      <td>5</td>\n",
       "      <td>56000</td>\n",
       "      <td>First Owner</td>\n",
       "      <td>Automatic</td>\n",
       "      <td>2017</td>\n",
       "      <td>7.81</td>\n",
       "      <td>2996.0</td>\n",
       "      <td>2996.0</td>\n",
       "      <td>333.0</td>\n",
       "      <td>63.75</td>\n",
       "    </tr>\n",
       "    <tr>\n",
       "      <th>1</th>\n",
       "      <td>1</td>\n",
       "      <td>2020 Nissan Magnite Turbo CVT XV Premium Opt BSVI</td>\n",
       "      <td>Jan-21</td>\n",
       "      <td>Comprehensive</td>\n",
       "      <td>Petrol</td>\n",
       "      <td>5</td>\n",
       "      <td>30615</td>\n",
       "      <td>First Owner</td>\n",
       "      <td>Automatic</td>\n",
       "      <td>2020</td>\n",
       "      <td>17.40</td>\n",
       "      <td>999.0</td>\n",
       "      <td>999.0</td>\n",
       "      <td>9863.0</td>\n",
       "      <td>8.99</td>\n",
       "    </tr>\n",
       "    <tr>\n",
       "      <th>2</th>\n",
       "      <td>2</td>\n",
       "      <td>2018 BMW X1 sDrive 20d xLine</td>\n",
       "      <td>Sep-18</td>\n",
       "      <td>Comprehensive</td>\n",
       "      <td>Diesel</td>\n",
       "      <td>5</td>\n",
       "      <td>24000</td>\n",
       "      <td>First Owner</td>\n",
       "      <td>Automatic</td>\n",
       "      <td>2018</td>\n",
       "      <td>20.68</td>\n",
       "      <td>1995.0</td>\n",
       "      <td>1995.0</td>\n",
       "      <td>188.0</td>\n",
       "      <td>23.75</td>\n",
       "    </tr>\n",
       "    <tr>\n",
       "      <th>3</th>\n",
       "      <td>3</td>\n",
       "      <td>2019 Kia Seltos GTX Plus</td>\n",
       "      <td>Dec-19</td>\n",
       "      <td>Comprehensive</td>\n",
       "      <td>Petrol</td>\n",
       "      <td>5</td>\n",
       "      <td>18378</td>\n",
       "      <td>First Owner</td>\n",
       "      <td>Manual</td>\n",
       "      <td>2019</td>\n",
       "      <td>16.50</td>\n",
       "      <td>1353.0</td>\n",
       "      <td>1353.0</td>\n",
       "      <td>13808.0</td>\n",
       "      <td>13.56</td>\n",
       "    </tr>\n",
       "    <tr>\n",
       "      <th>4</th>\n",
       "      <td>4</td>\n",
       "      <td>2019 Skoda Superb LK 1.8 TSI AT</td>\n",
       "      <td>Aug-19</td>\n",
       "      <td>Comprehensive</td>\n",
       "      <td>Petrol</td>\n",
       "      <td>5</td>\n",
       "      <td>44900</td>\n",
       "      <td>First Owner</td>\n",
       "      <td>Automatic</td>\n",
       "      <td>2019</td>\n",
       "      <td>14.67</td>\n",
       "      <td>1798.0</td>\n",
       "      <td>1798.0</td>\n",
       "      <td>17746.0</td>\n",
       "      <td>24.00</td>\n",
       "    </tr>\n",
       "    <tr>\n",
       "      <th>...</th>\n",
       "      <td>...</td>\n",
       "      <td>...</td>\n",
       "      <td>...</td>\n",
       "      <td>...</td>\n",
       "      <td>...</td>\n",
       "      <td>...</td>\n",
       "      <td>...</td>\n",
       "      <td>...</td>\n",
       "      <td>...</td>\n",
       "      <td>...</td>\n",
       "      <td>...</td>\n",
       "      <td>...</td>\n",
       "      <td>...</td>\n",
       "      <td>...</td>\n",
       "      <td>...</td>\n",
       "    </tr>\n",
       "    <tr>\n",
       "      <th>1548</th>\n",
       "      <td>1548</td>\n",
       "      <td>2020 Hyundai Creta SX Opt Diesel AT BSVI</td>\n",
       "      <td>Aug-20</td>\n",
       "      <td>Comprehensive</td>\n",
       "      <td>Diesel</td>\n",
       "      <td>5</td>\n",
       "      <td>35000</td>\n",
       "      <td>First Owner</td>\n",
       "      <td>Automatic</td>\n",
       "      <td>2020</td>\n",
       "      <td>1493.00</td>\n",
       "      <td>11345.0</td>\n",
       "      <td>11345.0</td>\n",
       "      <td>250.0</td>\n",
       "      <td>17.41</td>\n",
       "    </tr>\n",
       "    <tr>\n",
       "      <th>1549</th>\n",
       "      <td>1549</td>\n",
       "      <td>2022 Renault KWID 1.0 RXL Opt BSVI</td>\n",
       "      <td>2022</td>\n",
       "      <td>Third Party insurance</td>\n",
       "      <td>Petrol</td>\n",
       "      <td>5</td>\n",
       "      <td>10000</td>\n",
       "      <td>999 cc</td>\n",
       "      <td>2022</td>\n",
       "      <td>Power Steering</td>\n",
       "      <td>999.00</td>\n",
       "      <td>6706.0</td>\n",
       "      <td>6706.0</td>\n",
       "      <td>91.0</td>\n",
       "      <td>3.98</td>\n",
       "    </tr>\n",
       "    <tr>\n",
       "      <th>1550</th>\n",
       "      <td>1550</td>\n",
       "      <td>2017 Honda WR-V i-VTEC S</td>\n",
       "      <td>Jun-17</td>\n",
       "      <td>Comprehensive</td>\n",
       "      <td>Petrol</td>\n",
       "      <td>5</td>\n",
       "      <td>49000</td>\n",
       "      <td>First Owner</td>\n",
       "      <td>Manual</td>\n",
       "      <td>2017</td>\n",
       "      <td>17.50</td>\n",
       "      <td>1199.0</td>\n",
       "      <td>1199.0</td>\n",
       "      <td>887.0</td>\n",
       "      <td>5.85</td>\n",
       "    </tr>\n",
       "    <tr>\n",
       "      <th>1551</th>\n",
       "      <td>1551</td>\n",
       "      <td>2018 Volkswagen Polo 1.0 MPI Comfortline</td>\n",
       "      <td>May-18</td>\n",
       "      <td>Comprehensive</td>\n",
       "      <td>Petrol</td>\n",
       "      <td>5</td>\n",
       "      <td>40000</td>\n",
       "      <td>Second Owner</td>\n",
       "      <td>Manual</td>\n",
       "      <td>2018</td>\n",
       "      <td>18.78</td>\n",
       "      <td>999.0</td>\n",
       "      <td>999.0</td>\n",
       "      <td>75.0</td>\n",
       "      <td>4.75</td>\n",
       "    </tr>\n",
       "    <tr>\n",
       "      <th>1552</th>\n",
       "      <td>1552</td>\n",
       "      <td>2018 Maruti Swift Dzire VXI</td>\n",
       "      <td>May-18</td>\n",
       "      <td>Comprehensive</td>\n",
       "      <td>Petrol</td>\n",
       "      <td>5</td>\n",
       "      <td>34756</td>\n",
       "      <td>First Owner</td>\n",
       "      <td>Manual</td>\n",
       "      <td>2018</td>\n",
       "      <td>20.85</td>\n",
       "      <td>1197.0</td>\n",
       "      <td>1197.0</td>\n",
       "      <td>8314.0</td>\n",
       "      <td>6.10</td>\n",
       "    </tr>\n",
       "  </tbody>\n",
       "</table>\n",
       "<p>1553 rows × 15 columns</p>\n",
       "</div>"
      ],
      "text/plain": [
       "      Unnamed: 0                                           car_name  \\\n",
       "0              0                    2017 Mercedes-Benz S-Class S400   \n",
       "1              1  2020 Nissan Magnite Turbo CVT XV Premium Opt BSVI   \n",
       "2              2                       2018 BMW X1 sDrive 20d xLine   \n",
       "3              3                           2019 Kia Seltos GTX Plus   \n",
       "4              4                    2019 Skoda Superb LK 1.8 TSI AT   \n",
       "...          ...                                                ...   \n",
       "1548        1548           2020 Hyundai Creta SX Opt Diesel AT BSVI   \n",
       "1549        1549                 2022 Renault KWID 1.0 RXL Opt BSVI   \n",
       "1550        1550                           2017 Honda WR-V i-VTEC S   \n",
       "1551        1551           2018 Volkswagen Polo 1.0 MPI Comfortline   \n",
       "1552        1552                        2018 Maruti Swift Dzire VXI   \n",
       "\n",
       "     registration_year     insurance_validity fuel type  seats  kms_driven  \\\n",
       "0               Jul-17          Comprehensive    Petrol      5       56000   \n",
       "1               Jan-21          Comprehensive    Petrol      5       30615   \n",
       "2               Sep-18          Comprehensive    Diesel      5       24000   \n",
       "3               Dec-19          Comprehensive    Petrol      5       18378   \n",
       "4               Aug-19          Comprehensive    Petrol      5       44900   \n",
       "...                ...                    ...       ...    ...         ...   \n",
       "1548            Aug-20          Comprehensive    Diesel      5       35000   \n",
       "1549              2022  Third Party insurance    Petrol      5       10000   \n",
       "1550            Jun-17          Comprehensive    Petrol      5       49000   \n",
       "1551            May-18          Comprehensive    Petrol      5       40000   \n",
       "1552            May-18          Comprehensive    Petrol      5       34756   \n",
       "\n",
       "        ownsership transmission manufacturing_year  mileage(kmpl)  engine(cc)  \\\n",
       "0      First Owner    Automatic               2017           7.81      2996.0   \n",
       "1      First Owner    Automatic               2020          17.40       999.0   \n",
       "2      First Owner    Automatic               2018          20.68      1995.0   \n",
       "3      First Owner       Manual               2019          16.50      1353.0   \n",
       "4      First Owner    Automatic               2019          14.67      1798.0   \n",
       "...            ...          ...                ...            ...         ...   \n",
       "1548   First Owner    Automatic               2020        1493.00     11345.0   \n",
       "1549        999 cc         2022     Power Steering         999.00      6706.0   \n",
       "1550   First Owner       Manual               2017          17.50      1199.0   \n",
       "1551  Second Owner       Manual               2018          18.78       999.0   \n",
       "1552   First Owner       Manual               2018          20.85      1197.0   \n",
       "\n",
       "      max_power(bhp)  torque(Nm)  price(in lakhs)  \n",
       "0             2996.0       333.0            63.75  \n",
       "1              999.0      9863.0             8.99  \n",
       "2             1995.0       188.0            23.75  \n",
       "3             1353.0     13808.0            13.56  \n",
       "4             1798.0     17746.0            24.00  \n",
       "...              ...         ...              ...  \n",
       "1548         11345.0       250.0            17.41  \n",
       "1549          6706.0        91.0             3.98  \n",
       "1550          1199.0       887.0             5.85  \n",
       "1551           999.0        75.0             4.75  \n",
       "1552          1197.0      8314.0             6.10  \n",
       "\n",
       "[1553 rows x 15 columns]"
      ]
     },
     "execution_count": 11,
     "metadata": {},
     "output_type": "execute_result"
    }
   ],
   "source": [
    "# Add your code here\n",
    "df.rename(columns = {'fuel_type':'fuel type'}, inplace=True)\n",
    "df\n"
   ]
  },
  {
   "cell_type": "markdown",
   "id": "52b3da10-edd2-41ba-ab73-7370b323f81c",
   "metadata": {},
   "source": [
    " **Q3) Compute the crosstab between the 'transmission' and 'seats' columns . <span style=\"color:red\"> (1.5 mark) </span>**"
   ]
  },
  {
   "cell_type": "code",
   "execution_count": 14,
   "id": "7ec90489-a830-4fca-a0e9-d077f8a005a8",
   "metadata": {},
   "outputs": [
    {
     "data": {
      "text/html": [
       "<div>\n",
       "<style scoped>\n",
       "    .dataframe tbody tr th:only-of-type {\n",
       "        vertical-align: middle;\n",
       "    }\n",
       "\n",
       "    .dataframe tbody tr th {\n",
       "        vertical-align: top;\n",
       "    }\n",
       "\n",
       "    .dataframe thead th {\n",
       "        text-align: right;\n",
       "    }\n",
       "</style>\n",
       "<table border=\"1\" class=\"dataframe\">\n",
       "  <thead>\n",
       "    <tr style=\"text-align: right;\">\n",
       "      <th>seats</th>\n",
       "      <th>4</th>\n",
       "      <th>5</th>\n",
       "      <th>6</th>\n",
       "      <th>7</th>\n",
       "      <th>8</th>\n",
       "      <th>67000</th>\n",
       "    </tr>\n",
       "    <tr>\n",
       "      <th>transmission</th>\n",
       "      <th></th>\n",
       "      <th></th>\n",
       "      <th></th>\n",
       "      <th></th>\n",
       "      <th></th>\n",
       "      <th></th>\n",
       "    </tr>\n",
       "  </thead>\n",
       "  <tbody>\n",
       "    <tr>\n",
       "      <th>2011</th>\n",
       "      <td>0</td>\n",
       "      <td>3</td>\n",
       "      <td>0</td>\n",
       "      <td>0</td>\n",
       "      <td>0</td>\n",
       "      <td>0</td>\n",
       "    </tr>\n",
       "    <tr>\n",
       "      <th>2014</th>\n",
       "      <td>0</td>\n",
       "      <td>5</td>\n",
       "      <td>0</td>\n",
       "      <td>0</td>\n",
       "      <td>0</td>\n",
       "      <td>0</td>\n",
       "    </tr>\n",
       "    <tr>\n",
       "      <th>2015</th>\n",
       "      <td>0</td>\n",
       "      <td>1</td>\n",
       "      <td>0</td>\n",
       "      <td>0</td>\n",
       "      <td>0</td>\n",
       "      <td>0</td>\n",
       "    </tr>\n",
       "    <tr>\n",
       "      <th>2016</th>\n",
       "      <td>0</td>\n",
       "      <td>1</td>\n",
       "      <td>0</td>\n",
       "      <td>0</td>\n",
       "      <td>0</td>\n",
       "      <td>0</td>\n",
       "    </tr>\n",
       "    <tr>\n",
       "      <th>2017</th>\n",
       "      <td>0</td>\n",
       "      <td>28</td>\n",
       "      <td>0</td>\n",
       "      <td>0</td>\n",
       "      <td>0</td>\n",
       "      <td>0</td>\n",
       "    </tr>\n",
       "    <tr>\n",
       "      <th>2018</th>\n",
       "      <td>0</td>\n",
       "      <td>1</td>\n",
       "      <td>0</td>\n",
       "      <td>1</td>\n",
       "      <td>0</td>\n",
       "      <td>0</td>\n",
       "    </tr>\n",
       "    <tr>\n",
       "      <th>2020</th>\n",
       "      <td>0</td>\n",
       "      <td>0</td>\n",
       "      <td>2</td>\n",
       "      <td>0</td>\n",
       "      <td>0</td>\n",
       "      <td>0</td>\n",
       "    </tr>\n",
       "    <tr>\n",
       "      <th>2021</th>\n",
       "      <td>1</td>\n",
       "      <td>0</td>\n",
       "      <td>0</td>\n",
       "      <td>1</td>\n",
       "      <td>0</td>\n",
       "      <td>0</td>\n",
       "    </tr>\n",
       "    <tr>\n",
       "      <th>2022</th>\n",
       "      <td>0</td>\n",
       "      <td>2</td>\n",
       "      <td>0</td>\n",
       "      <td>0</td>\n",
       "      <td>0</td>\n",
       "      <td>0</td>\n",
       "    </tr>\n",
       "    <tr>\n",
       "      <th>2023</th>\n",
       "      <td>0</td>\n",
       "      <td>2</td>\n",
       "      <td>0</td>\n",
       "      <td>0</td>\n",
       "      <td>0</td>\n",
       "      <td>0</td>\n",
       "    </tr>\n",
       "    <tr>\n",
       "      <th>Automatic</th>\n",
       "      <td>19</td>\n",
       "      <td>533</td>\n",
       "      <td>13</td>\n",
       "      <td>103</td>\n",
       "      <td>0</td>\n",
       "      <td>0</td>\n",
       "    </tr>\n",
       "    <tr>\n",
       "      <th>Manual</th>\n",
       "      <td>2</td>\n",
       "      <td>777</td>\n",
       "      <td>3</td>\n",
       "      <td>51</td>\n",
       "      <td>2</td>\n",
       "      <td>0</td>\n",
       "    </tr>\n",
       "    <tr>\n",
       "      <th>Power Windows Front</th>\n",
       "      <td>0</td>\n",
       "      <td>0</td>\n",
       "      <td>0</td>\n",
       "      <td>0</td>\n",
       "      <td>0</td>\n",
       "      <td>2</td>\n",
       "    </tr>\n",
       "  </tbody>\n",
       "</table>\n",
       "</div>"
      ],
      "text/plain": [
       "seats                4      5      6      7      8      67000\n",
       "transmission                                                 \n",
       "2011                     0      3      0      0      0      0\n",
       "2014                     0      5      0      0      0      0\n",
       "2015                     0      1      0      0      0      0\n",
       "2016                     0      1      0      0      0      0\n",
       "2017                     0     28      0      0      0      0\n",
       "2018                     0      1      0      1      0      0\n",
       "2020                     0      0      2      0      0      0\n",
       "2021                     1      0      0      1      0      0\n",
       "2022                     0      2      0      0      0      0\n",
       "2023                     0      2      0      0      0      0\n",
       "Automatic               19    533     13    103      0      0\n",
       "Manual                   2    777      3     51      2      0\n",
       "Power Windows Front      0      0      0      0      0      2"
      ]
     },
     "execution_count": 14,
     "metadata": {},
     "output_type": "execute_result"
    }
   ],
   "source": [
    "# Add your code here\n",
    "pd.crosstab(df.transmission, df.seats)\n",
    "\n"
   ]
  },
  {
   "cell_type": "code",
   "execution_count": 96,
   "id": "4432ba84-cb42-4eab-8a12-794941f2011c",
   "metadata": {},
   "outputs": [
    {
     "data": {
      "text/plain": [
       "1006    34.75\n",
       "647     21.00\n",
       "422     52.00\n",
       "625     20.00\n",
       "671      6.49\n",
       "        ...  \n",
       "604      4.90\n",
       "1333     3.75\n",
       "524      5.28\n",
       "538      3.37\n",
       "1482     3.84\n",
       "Name: price(in lakhs), Length: 500, dtype: float64"
      ]
     },
     "execution_count": 96,
     "metadata": {},
     "output_type": "execute_result"
    }
   ],
   "source": [
    "sample = df['price(in lakhs)'].sample(500)\n",
    "sample"
   ]
  },
  {
   "cell_type": "markdown",
   "id": "15740745-5545-45e4-8f9d-945af2744439",
   "metadata": {},
   "source": [
    "Q4) Calculate the probabilities of each fuel type ('Petrol', 'Diesel', 'CNG', '5 Seats') for people with 'price(in lakhs)' exceeding 40. <span style=\"color:red\"> (2 marks) </span>**"
   ]
  },
  {
   "cell_type": "code",
   "execution_count": null,
   "id": "7de5ccc2-fa59-4e87-9bfa-2a94e7cdb03a",
   "metadata": {},
   "outputs": [],
   "source": [
    "from sklearn.cluster import KMeans\n",
    "\n",
    "X = pd.merge(left=df.loc[:,df.dtypes=='int64'].drop('price(in lakhs)', axis=1), right=df.loc[:,df.dtypes=='float64'], on=df.idx).values\n",
    "\n",
    "kmeans = KMeans(n_clusters=5, random_state=0).fit(X) \n",
    "\n",
    "df['price(in lakhs)'] = kmeans.labels_\n",
    "\n",
    "df"
   ]
  },
  {
   "cell_type": "code",
   "execution_count": 70,
   "id": "170a9cdd-5d4e-4f77-a633-7fff32dc82a3",
   "metadata": {},
   "outputs": [
    {
     "name": "stdout",
     "output_type": "stream",
     "text": [
      "fuel type\n",
      "Petrol    95\n",
      "Diesel    69\n",
      "Name: count, dtype: int64\n",
      "fuel type\n",
      "Petrol    0.579268\n",
      "Diesel    0.420732\n",
      "Name: count, dtype: float64\n"
     ]
    }
   ],
   "source": [
    "\n",
    "df2 = df[df[\"price(in lakhs)\"] > 40]\n",
    "fuel_counts = df2['fuel type'].value_counts()\n",
    "total_count = fuel_counts.sum()\n",
    "prop = fuel_counts / total_count\n",
    "print(fuel_counts)\n",
    "print(prop)\n"
   ]
  },
  {
   "cell_type": "markdown",
   "id": "699abf6e-18fb-47bb-a0af-8d590768e67c",
   "metadata": {},
   "source": [
    "## **Q5) Perform simple random (250), stratified random (250), and clustered sampling on the 'price(in lakhs)' column. <span style=\"color:red\">(7 marks)**</span>"
   ]
  },
  {
   "cell_type": "code",
   "execution_count": 32,
   "id": "1e08b754",
   "metadata": {},
   "outputs": [],
   "source": [
    "# Add your code here\n",
    "minn = df[\"price(in lakhs)\"].min()\n",
    "maxx = df[\"price(in lakhs)\"].max()\n",
    "\n",
    "# Calculate the range and the interval length\n",
    "diff = maxx - minn\n",
    "L = diff // 5\n",
    "\n",
    "\n",
    "g1 = df[\"price(in lakhs)\"][(df[\"price(in lakhs)\"] <= minn + L)]\n",
    "g2 = df[\"price(in lakhs)\"][(df[\"price(in lakhs)\"] > minn + L) & (df[\"price(in lakhs)\"] <= minn + 2 * L)]\n",
    "g3 = df[\"price(in lakhs)\"][(df[\"price(in lakhs)\"] > minn + 2 * L) & (df[\"price(in lakhs)\"] <= minn + 3 * L)]\n",
    "g4 = df[\"price(in lakhs)\"][(df[\"price(in lakhs)\"] > minn + 3 * L) & (df[\"price(in lakhs)\"] <= minn + 4 * L)]\n",
    "g5 = df[\"price(in lakhs)\"][df[\"price(in lakhs)\"] > minn + 4 * L]\n",
    "\n",
    "\n",
    "\n",
    "sample_size = 500\n",
    "total = len(df)\n",
    "sample_percentage = round(sample_size / total,3)\n",
    "\n",
    "# Sample from each group\n",
    "s1 = g1.sample(round(sample_percentage * len(g1)))\n",
    "s2 = g2.sample(round(sample_percentage * len(g2)))\n",
    "s3 = g3.sample(round(sample_percentage * len(g3)))\n",
    "s4 = g4.sample(round(sample_percentage * len(g4)))\n",
    "s5 = g5.sample(round(sample_percentage * len(g5)))\n",
    "\n",
    "# Combine the samples\n",
    "s = pd.concat([s1, s2, s3, s4, s5])\n",
    "\n"
   ]
  },
  {
   "cell_type": "markdown",
   "id": "d18d33ae-ffec-451b-ae56-225416672c1a",
   "metadata": {},
   "source": [
    "## **Q6) Compute the correlation between the'seats' and 'price(in lakhs)' columns and plot the it.** <span style=\"color:red\">**(2 marks)**</span>"
   ]
  },
  {
   "cell_type": "code",
   "execution_count": 41,
   "id": "1fa5ffdc-797b-48c8-9591-95d93a9b327d",
   "metadata": {},
   "outputs": [
    {
     "data": {
      "text/plain": [
       "Unnamed: 0            0\n",
       "car_name              0\n",
       "registration_year     0\n",
       "insurance_validity    0\n",
       "fuel type             0\n",
       "seats                 0\n",
       "kms_driven            0\n",
       "ownsership            0\n",
       "transmission          0\n",
       "manufacturing_year    0\n",
       "mileage(kmpl)         3\n",
       "engine(cc)            3\n",
       "max_power(bhp)        3\n",
       "torque(Nm)            4\n",
       "price(in lakhs)       0\n",
       "idx                   0\n",
       "dtype: int64"
      ]
     },
     "execution_count": 41,
     "metadata": {},
     "output_type": "execute_result"
    }
   ],
   "source": [
    "df.isna().sum()"
   ]
  },
  {
   "cell_type": "code",
   "execution_count": 97,
   "id": "70c67900-de9b-4f4a-ae3b-77e678d6b25b",
   "metadata": {},
   "outputs": [
    {
     "data": {
      "text/plain": [
       "PearsonRResult(statistic=-0.0015485983688207812, pvalue=0.9513765310304375)"
      ]
     },
     "execution_count": 97,
     "metadata": {},
     "output_type": "execute_result"
    }
   ],
   "source": [
    "pearsonr(df['seats'], df['price(in lakhs)'])"
   ]
  },
  {
   "cell_type": "markdown",
   "id": "38f36a2e-5c70-4bf6-89d9-b90db99b33b1",
   "metadata": {},
   "source": [
    "## **Q7) Change the 'fuel type' column values into:**\n",
    "\n",
    "1 for 'Petrol'.\n",
    "\n",
    "2 for 'Diesel'.\n",
    "\n",
    "3 for 'CNG'\n",
    "\n",
    "4 for '5 Seats'\n",
    "\n",
    "## **Add these changed values into a new column named 'fuel type updated'. <span style=\"color:red\"> (4 marks) </span>**"
   ]
  },
  {
   "cell_type": "code",
   "execution_count": 87,
   "id": "5382b9b3-6753-428b-b38e-f6fca209af76",
   "metadata": {},
   "outputs": [
    {
     "name": "stdout",
     "output_type": "stream",
     "text": [
      "     fuel type  fuel type updated\n",
      "0       Petrol                  1\n",
      "1       Petrol                  1\n",
      "2       Diesel                  2\n",
      "3       Petrol                  1\n",
      "4       Petrol                  1\n",
      "...        ...                ...\n",
      "1548    Diesel                  2\n",
      "1549    Petrol                  1\n",
      "1550    Petrol                  1\n",
      "1551    Petrol                  1\n",
      "1552    Petrol                  1\n",
      "\n",
      "[1553 rows x 2 columns]\n"
     ]
    }
   ],
   "source": [
    "##df['fuel type'] = df[\"fuel type updated\"].map(\n",
    "    #lambda x: 'Petrol' if x == 1 \n",
    "               #else 'Diesel' if x == 2 \n",
    "#else 'CNG' if x == 3 \n",
    "               #else '5 Seats')\n",
    "#df\n",
    "\n",
    "fuel_type_mapping = {\n",
    "    'Petrol': 1,\n",
    "    'Diesel': 2,\n",
    "    'CNG': 3,\n",
    "    '5 Seats': 4\n",
    "}\n",
    "df['fuel type updated'] = df['fuel type'].map(fuel_type_mapping)\n",
    "\n",
    "print(df[['fuel type', 'fuel type updated']])\n"
   ]
  },
  {
   "cell_type": "markdown",
   "id": "f5f567c5-6a3a-4558-a553-e19491bba4c6",
   "metadata": {},
   "source": [
    "# End of questions!\n",
    "--------------------------------------------\n"
   ]
  },
  {
   "cell_type": "markdown",
   "id": "f719eb89-499d-4541-bf22-7d1bd92bd8bd",
   "metadata": {},
   "source": [
    "# 2) Syntax from Previous labs"
   ]
  },
  {
   "cell_type": "markdown",
   "id": "89674785-3fa5-4abd-a8ca-3959f6316079",
   "metadata": {},
   "source": [
    "### 2.1) df Operations"
   ]
  },
  {
   "cell_type": "raw",
   "id": "f0f44619-eb4b-4345-b521-af048996d8d9",
   "metadata": {},
   "source": []
  },
  {
   "cell_type": "raw",
   "id": "e88570f4-1cb7-465d-bc04-1d804af6650a",
   "metadata": {},
   "source": []
  },
  {
   "cell_type": "raw",
   "id": "9370ffa3-93f5-4090-bdc9-b75919ece0db",
   "metadata": {},
   "source": [
    " df.index"
   ]
  },
  {
   "cell_type": "raw",
   "id": "7dbfabc3-bce9-4384-9c3b-03203afb4d51",
   "metadata": {},
   "source": [
    " df.size"
   ]
  },
  {
   "cell_type": "raw",
   "id": "08b7485c-3f69-4af5-b0f5-8df4618b03e8",
   "metadata": {},
   "source": [
    "df.describe()"
   ]
  },
  {
   "cell_type": "raw",
   "id": "933850d1-53cc-428d-9844-ecb7d09881d8",
   "metadata": {},
   "source": [
    "df.columns"
   ]
  },
  {
   "cell_type": "raw",
   "id": "5f288409-c37c-4bad-b216-ceb491dc1561",
   "metadata": {},
   "source": [
    "s = pd.concat([s1, s25])"
   ]
  },
  {
   "cell_type": "raw",
   "id": "a757614e-db3a-4d63-8b65-40f326e9e260",
   "metadata": {},
   "source": [
    "df[['column1', 'column2']][10:20]\n",
    "\n",
    "df.loc[10:20,['column1', 'column2']]\n",
    "\n",
    "df.iloc[10:20,[1, 12]]\n"
   ]
  },
  {
   "cell_type": "raw",
   "id": "aeff024e-70b2-443f-b27a-c46d80f6faa3",
   "metadata": {},
   "source": [
    "df.column_name.unique()"
   ]
  },
  {
   "cell_type": "raw",
   "id": "6f5d7c62-5214-42b7-9fe9-32f319a3a322",
   "metadata": {},
   "source": [
    "df[df.column_name==0]"
   ]
  },
  {
   "cell_type": "raw",
   "id": "8c405882-05cc-4f46-b6fb-e2afaf4f0733",
   "metadata": {},
   "source": [
    "pd.crosstab(df.column1, df.column2)"
   ]
  },
  {
   "cell_type": "raw",
   "id": "0f84cf2e-67b6-4091-ac8d-4d001fa8a326",
   "metadata": {},
   "source": [
    "df['column1'] = df['column1'].map(lambda x: 'A' if x==1 else 'B')"
   ]
  },
  {
   "cell_type": "raw",
   "id": "5e7e837b-424f-4091-b448-2e4ad956be92",
   "metadata": {},
   "source": [
    "df['column1'] = df['column2'].apply(lambda x: function_name(x))"
   ]
  },
  {
   "cell_type": "raw",
   "id": "c768fe7b-c6e4-462d-8c34-b82922b5ac45",
   "metadata": {},
   "source": [
    "df.rename(columns = {'old_column_name':'new_column_name'}, inplace=True)"
   ]
  },
  {
   "cell_type": "raw",
   "id": "dee6362e-e260-4e85-b9a7-9ca50a790858",
   "metadata": {},
   "source": [
    "df.T "
   ]
  },
  {
   "cell_type": "raw",
   "id": "0a5ad25b-4903-43a1-b125-3f0e4595eef4",
   "metadata": {},
   "source": [
    "df.drop(['column_name'],axis=1, inplace=True)"
   ]
  },
  {
   "cell_type": "raw",
   "id": "fb4f25d8-5d74-4a7d-bf2a-1b2d03ab88e7",
   "metadata": {},
   "source": [
    "groups = {'G1':len(g1), 'G2':len(g2)}\n",
    "\n",
    "groups_df = pd.DataFrame(groups.values(), columns=['count'], index=groups.keys())"
   ]
  },
  {
   "cell_type": "raw",
   "id": "b4feaba6-0218-4d98-a06d-0a4f626fc8cd",
   "metadata": {},
   "source": [
    "df.plot.scatter(x = 'column1_name', y = 'column1_name');"
   ]
  },
  {
   "cell_type": "markdown",
   "id": "2b538ed3-0505-489e-8fb5-af0dfcb5ccc3",
   "metadata": {},
   "source": [
    "--------------------------------------------------------"
   ]
  },
  {
   "cell_type": "markdown",
   "id": "b3e31b56-26ef-4fc3-b8a2-76b84742ef40",
   "metadata": {},
   "source": [
    "### 2.2) Plotting"
   ]
  },
  {
   "cell_type": "raw",
   "id": "68cbb57d-cd78-4365-a5d0-204e3976f2ca",
   "metadata": {},
   "source": [
    "column_name.plot.hist(figsize=(15,10));"
   ]
  },
  {
   "cell_type": "raw",
   "id": "a333a5b5-9f02-4f1c-90c1-93343e3b4a3f",
   "metadata": {},
   "source": [
    "df.plot(kind='barh');"
   ]
  },
  {
   "cell_type": "raw",
   "id": "76e1cff8-815c-4489-bb09-3d501134334f",
   "metadata": {},
   "source": [
    "sns.pairplot(df)"
   ]
  },
  {
   "cell_type": "markdown",
   "id": "a2f2bb32-673a-4d00-84a7-0bf3d49a13f7",
   "metadata": {},
   "source": [
    "--------------------------------------------------------"
   ]
  },
  {
   "cell_type": "markdown",
   "id": "219175c2-0d56-4323-99fd-6e73859fff55",
   "metadata": {},
   "source": [
    "### 2.3) Sampling"
   ]
  },
  {
   "cell_type": "raw",
   "id": "586a7edf-8867-4e7c-8247-f8189f02ee27",
   "metadata": {},
   "source": [
    "sample = column_name.sample(n)"
   ]
  },
  {
   "cell_type": "raw",
   "id": "b9e45a77-e9a3-4f2f-b337-fc01f75dcf57",
   "metadata": {},
   "source": [
    "minn = age.min()\n",
    "\n",
    "maxx = age.max()\n",
    "\n",
    "diff = (age.max() - age.min())\n",
    "\n",
    "L = diff/5\n",
    "\n",
    "g1 = age[age <= minn+L]\n"
   ]
  },
  {
   "cell_type": "raw",
   "id": "18c6ca5a-1944-4281-97e9-a375cd93c685",
   "metadata": {},
   "source": [
    "sample_percentage = sample_size / total\n",
    "\n",
    "s1 = g1.sample(round(sample_percentage*len(g1)))"
   ]
  },
  {
   "cell_type": "raw",
   "id": "51c3d4a0-7780-4f0c-aec3-1272c9306d8d",
   "metadata": {},
   "source": [
    "from sklearn.cluster import KMeans\n",
    "\n",
    "X = pd.merge(left=df.loc[:,df.dtypes=='int64'].drop('CLIENTNUM', axis=1), right=df.loc[:,df.dtypes=='float64'], on=df.idx).values\n",
    "\n",
    "kmeans = KMeans(n_clusters=5, random_state=0).fit(X) \n",
    "\n",
    "df['Segmentation'] = kmeans.labels_"
   ]
  },
  {
   "cell_type": "raw",
   "id": "c415b23d-4c88-45eb-bf5f-d63d1e5d6c31",
   "metadata": {},
   "source": [
    "sample = df[df.Segmentation.isin([1, 3])].index\n",
    "\n",
    "df[df.index.isin(sample)]"
   ]
  },
  {
   "cell_type": "markdown",
   "id": "fdb61e73-53f5-465d-bcea-392f52d493f2",
   "metadata": {},
   "source": [
    "--------------------------------------------------------"
   ]
  },
  {
   "cell_type": "markdown",
   "id": "e6ce3bd2-d167-445e-8ea7-bc2b3f41925f",
   "metadata": {},
   "source": [
    "### 2.4) Binning:"
   ]
  },
  {
   "cell_type": "raw",
   "id": "f8cabd40-156b-41a1-bcc6-8dfd84026297",
   "metadata": {},
   "source": [
    "def equalObs(x, nbin):\n",
    "    \n",
    "    nlen = len(x)\n",
    "    \n",
    "    return np.interp(np.linspace(0, nlen, nbin + 1),\n",
    "                     \n",
    "                     np.arange(nlen),\n",
    "                     \n",
    "                     np.sort(x))\n",
    "\n",
    "n, bins, patches = plt.hist(df.Age, equalObs(df.Age, 3), edgecolor='black')\n",
    "\n",
    "plt.show()"
   ]
  },
  {
   "cell_type": "raw",
   "id": "735960cb-74c3-4305-a047-e12be4c65497",
   "metadata": {},
   "source": [
    "n, bins, patches = plt.hist(df.Age, edgecolor='black', bins=4)\n",
    "\n",
    "plt.show()"
   ]
  },
  {
   "cell_type": "markdown",
   "id": "867384f9-905f-4121-9b61-9361675f48ea",
   "metadata": {},
   "source": [
    "--------------------------------------------------------"
   ]
  },
  {
   "cell_type": "markdown",
   "id": "1c965122-47c9-4ffd-9f80-c196ac1bf866",
   "metadata": {},
   "source": [
    "### 2.5) Correlation:"
   ]
  },
  {
   "cell_type": "raw",
   "id": "37db44fd-8784-4313-8105-08b7a02ed5f3",
   "metadata": {},
   "source": [
    "pearsonr(df['column1_name'], df['column2_name'])"
   ]
  },
  {
   "cell_type": "markdown",
   "id": "0c5a604b-6158-4940-9080-dd6e2260dd47",
   "metadata": {},
   "source": [
    "--------------------------------------------------------"
   ]
  },
  {
   "cell_type": "raw",
   "id": "7c1bbdbf-ec7a-47de-b933-dcdbebb7e82e",
   "metadata": {},
   "source": [
    "a_mean = df['column1_name'].mean()\n",
    "\n",
    "b_mean = df['column2_name'].mean()\n",
    "\n",
    "n_1 = len(df)-1\n",
    "\n",
    "print(a_mean, b_mean)\n",
    "\n",
    "s = sum([(a - a_mean) *(b - b_mean) for a, b in zip(df['column1_name'], df['column2_name'])])\n",
    "\n",
    "cov = sum([(a - a_mean) *(b - b_mean) for a, b in zip(df['column1_name'], df['column2_name'])]) / n_1\n",
    "\n",
    "print(cov)\n",
    "\n",
    "corr = cov/(df['column1_name'].std() *df['column2_name'].std())\n"
   ]
  },
  {
   "cell_type": "markdown",
   "id": "1e86ffa6-2273-46bc-b6d8-c6437c45fb85",
   "metadata": {},
   "source": [
    "--------------------------------------------------------"
   ]
  },
  {
   "cell_type": "markdown",
   "id": "391ec597-2afc-4246-b58e-e1459a306652",
   "metadata": {},
   "source": [
    "# End of previous labs syntax!"
   ]
  },
  {
   "cell_type": "code",
   "execution_count": null,
   "id": "9e8061fb-ca09-4267-ba99-3370af1b0d15",
   "metadata": {},
   "outputs": [],
   "source": []
  }
 ],
 "metadata": {
  "kernelspec": {
   "display_name": "Python 3 (ipykernel)",
   "language": "python",
   "name": "python3"
  },
  "language_info": {
   "codemirror_mode": {
    "name": "ipython",
    "version": 3
   },
   "file_extension": ".py",
   "mimetype": "text/x-python",
   "name": "python",
   "nbconvert_exporter": "python",
   "pygments_lexer": "ipython3",
   "version": "3.12.4"
  }
 },
 "nbformat": 4,
 "nbformat_minor": 5
}
